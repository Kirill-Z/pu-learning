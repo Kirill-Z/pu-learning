{
 "cells": [
  {
   "cell_type": "code",
   "execution_count": null,
   "metadata": {
    "collapsed": true
   },
   "outputs": [],
   "source": [
    "import numpy as np\n",
    "import pandas as pd"
   ]
  },
  {
   "cell_type": "code",
   "execution_count": null,
   "outputs": [],
   "source": [
    "import random\n",
    "\n",
    "# The mean of the positive example's distribution\n",
    "MEAN_P = [3, 3]\n",
    "# The covariance matrix of the positive example's distribution\n",
    "COV_P = [\n",
    "    [1, 0],\n",
    "    [0, 1],\n",
    "]\n",
    "\n",
    "# The mean of the negative example's distribution\n",
    "MEAN_N = [0, 0]\n",
    "# The covariance matrix of the positive example's distribution\n",
    "COV_N = [\n",
    "    [1, 0],\n",
    "    [0, 1],\n",
    "]\n",
    "\n",
    "# The class prior\n",
    "ALPHA = 0.8\n",
    "\n",
    "\n",
    "def get_samples(n: int):\n",
    "    x, y = [], []\n",
    "    for _ in range(n):\n",
    "        if random.random() < ALPHA:\n",
    "            x.append(np.random.multivariate_normal(MEAN_P, COV_P, 1))\n",
    "            y.append(1)\n",
    "        else:\n",
    "            x.append(np.random.multivariate_normal(MEAN_N, COV_N, 1))\n",
    "            y.append(0)\n",
    "    return np.concatenate(x), np.asarray(y)"
   ],
   "metadata": {
    "collapsed": false
   }
  },
  {
   "cell_type": "code",
   "execution_count": null,
   "outputs": [],
   "source": [
    "N_TRAIN = 10000  # The number of training examples\n",
    "N_VALID = 1000  # The number of validation examples\n",
    "N_TEST = 1000  # The number of test examples\n",
    "\n",
    "train_xs, train_ys = get_samples(N_TRAIN)\n",
    "valid_xs, valid_ys = get_samples(N_VALID)\n",
    "test_xs, test_ys = get_samples(N_TEST)"
   ],
   "metadata": {
    "collapsed": false
   }
  },
  {
   "cell_type": "code",
   "execution_count": null,
   "outputs": [],
   "source": [
    "from utils import plot_x_y\n",
    "\n",
    "plot_x_y(train_xs, train_ys)"
   ],
   "metadata": {
    "collapsed": false
   }
  },
  {
   "cell_type": "code",
   "execution_count": null,
   "outputs": [],
   "source": [
    "c = 0.1  # Label frequency\n",
    "\n",
    "\n",
    "def propensity_score(ys):\n",
    "    return [c] * len(ys)"
   ],
   "metadata": {
    "collapsed": false
   }
  },
  {
   "cell_type": "code",
   "execution_count": null,
   "outputs": [],
   "source": [
    "train_es = propensity_score(train_ys)\n",
    "valid_es = propensity_score(valid_ys)\n",
    "test_es = propensity_score(test_ys)"
   ],
   "metadata": {
    "collapsed": false
   }
  },
  {
   "cell_type": "code",
   "execution_count": null,
   "outputs": [],
   "source": [
    "def get_label(y, e):\n",
    "    if y == 0:\n",
    "        return 0\n",
    "    else:\n",
    "        return int(random.random() < e)"
   ],
   "metadata": {
    "collapsed": false
   }
  },
  {
   "cell_type": "code",
   "execution_count": null,
   "outputs": [],
   "source": [
    "train_ss = [get_label(y, e) for y, e in zip(train_ys, train_es)]\n",
    "valid_ss = [get_label(y, e) for y, e in zip(valid_ys, valid_es)]\n",
    "test_ss = [get_label(y, e) for y, e in zip(test_ys, test_es)]"
   ],
   "metadata": {
    "collapsed": false
   }
  },
  {
   "cell_type": "code",
   "execution_count": null,
   "outputs": [],
   "source": [
    "from utils import plot_x_s\n",
    "\n",
    "plot_x_s(train_xs, train_ss)"
   ],
   "metadata": {
    "collapsed": false
   }
  },
  {
   "cell_type": "code",
   "execution_count": null,
   "outputs": [],
   "source": [
    "def save_data(filename, xs, ys, ss, es):\n",
    "    with open(filename, \"wt\") as f:\n",
    "        f.write(\"x_0,x_1,y,s,e\\n\")\n",
    "        for x, y, s, e in zip(xs, ys, ss, es):\n",
    "            f.write(f\"{x[0]},{x[1]},{y},{s},{e}\\n\")\n",
    "\n",
    "\n",
    "def save_c(filename, c):\n",
    "    with open(filename, \"wt\") as f:\n",
    "        f.write(f\"{c}\")"
   ],
   "metadata": {
    "collapsed": false
   }
  },
  {
   "cell_type": "code",
   "execution_count": null,
   "outputs": [],
   "source": [
    "data_id = \"scar\"\n",
    "\n",
    "save_data(f\"data/{data_id}/train.csv\", train_xs, train_ys, train_ss, train_es)\n",
    "save_data(f\"data/{data_id}/valid.csv\", valid_xs, valid_ys, valid_ss, valid_es)\n",
    "save_data(f\"data/{data_id}/test.csv\", test_xs, test_ys, test_ss, test_es)\n",
    "\n",
    "save_c(f\"data/{data_id}/c.txt\", c)"
   ],
   "metadata": {
    "collapsed": false
   }
  },
  {
   "cell_type": "code",
   "execution_count": null,
   "outputs": [],
   "source": [
    "class LabelingMechanism:\n",
    "    def __init__(\n",
    "        self,\n",
    "        propensity_attributes,\n",
    "        propensity_attributes_signs,\n",
    "        min_prob=0.0,\n",
    "        max_prob=1.0,\n",
    "        power=1,\n",
    "    ):\n",
    "        assert len(propensity_attributes) == len(\n",
    "            propensity_attributes_signs\n",
    "        ), \"size of attributes and signs must be same\"\n",
    "        self.propensity_attributes = np.array(propensity_attributes)\n",
    "        self.propensity_attributes_signs = np.array(propensity_attributes_signs)\n",
    "        self.min_prob = min_prob\n",
    "        self.max_prob = max_prob\n",
    "        self.power = power\n",
    "\n",
    "        self.min_x = None\n",
    "        self.max_x = None\n",
    "\n",
    "    def fit(self, xs):\n",
    "        xs_ = xs[:, self.propensity_attributes] * self.propensity_attributes_signs\n",
    "        self.min_x = xs_.min(0)\n",
    "        self.max_x = xs_.max(0)\n",
    "\n",
    "    def propensity_score(self, xs):\n",
    "        assert (\n",
    "            self.min_x is not None and self.max_x is not None\n",
    "        ), \"run fit() before calculating propensity score\"\n",
    "        xs_ = xs[:, self.propensity_attributes] * self.propensity_attributes_signs\n",
    "        scaled = self.min_prob + (\n",
    "            ((xs_ - self.min_x) / (self.max_x - self.min_x)) ** self.power\n",
    "        ) * (self.max_prob - self.min_prob)\n",
    "        es = (scaled ** (1 / len(self.propensity_attributes))).prod(1)\n",
    "        return es\n",
    "\n",
    "    @staticmethod\n",
    "    def label_frequency(es, ys):\n",
    "        es_pos = es[ys == 1]\n",
    "        return es_pos.mean()"
   ],
   "metadata": {
    "collapsed": false
   }
  },
  {
   "cell_type": "code",
   "execution_count": null,
   "outputs": [],
   "source": [
    "lm = LabelingMechanism([0], [1], min_prob=0.0, max_prob=1.0, power=4)\n",
    "lm.fit(train_xs)"
   ],
   "metadata": {
    "collapsed": false
   }
  },
  {
   "cell_type": "code",
   "execution_count": null,
   "outputs": [],
   "source": [
    "train_es = lm.propensity_score(train_xs)\n",
    "valid_es = lm.propensity_score(valid_xs)\n",
    "test_es = lm.propensity_score(test_xs)\n",
    "\n",
    "c = lm.label_frequency(train_es, train_ys)"
   ],
   "metadata": {
    "collapsed": false
   }
  },
  {
   "cell_type": "markdown",
   "source": [],
   "metadata": {
    "collapsed": false
   }
  },
  {
   "cell_type": "code",
   "execution_count": null,
   "outputs": [],
   "source": [
    "train_ss = [get_label(y, e) for y, e in zip(train_ys, train_es)]\n",
    "valid_ss = [get_label(y, e) for y, e in zip(train_ys, valid_es)]\n",
    "test_ss = [get_label(y, e) for y, e in zip(train_ys, test_es)]"
   ],
   "metadata": {
    "collapsed": false
   }
  },
  {
   "cell_type": "code",
   "execution_count": null,
   "outputs": [],
   "source": [
    "plot_x_s(train_xs, train_ss)"
   ],
   "metadata": {
    "collapsed": false
   }
  },
  {
   "cell_type": "code",
   "execution_count": null,
   "outputs": [],
   "source": [
    "data_id = \"sar\"\n",
    "\n",
    "save_data(f\"data/{data_id}/train.csv\", train_xs, train_ys, train_ss, train_es)\n",
    "save_data(f\"data/{data_id}/valid.csv\", valid_xs, valid_ys, valid_ss, valid_es)\n",
    "save_data(f\"data/{data_id}/test.csv\", test_xs, test_ys, test_ss, test_es)\n",
    "\n",
    "save_c(f\"data/{data_id}/c.txt\", c)"
   ],
   "metadata": {
    "collapsed": false
   }
  },
  {
   "cell_type": "code",
   "execution_count": null,
   "outputs": [],
   "source": [
    "lm = LabelingMechanism([0, 1], [1, 1], min_prob=0.0, max_prob=1.0, power=4)\n",
    "lm.fit(train_xs)"
   ],
   "metadata": {
    "collapsed": false
   }
  },
  {
   "cell_type": "code",
   "execution_count": null,
   "outputs": [],
   "source": [
    "train_es = lm.propensity_score(train_xs)\n",
    "valid_es = lm.propensity_score(valid_xs)\n",
    "test_es = lm.propensity_score(test_xs)\n",
    "\n",
    "c = lm.label_frequency(train_es, train_ys)"
   ],
   "metadata": {
    "collapsed": false
   }
  },
  {
   "cell_type": "code",
   "execution_count": null,
   "outputs": [],
   "source": [
    "train_ss = [get_label(y, e) for y, e in zip(train_ys, train_es)]\n",
    "valid_ss = [get_label(y, e) for y, e in zip(train_ys, valid_es)]\n",
    "test_ss = [get_label(y, e) for y, e in zip(train_ys, test_es)]"
   ],
   "metadata": {
    "collapsed": false
   }
  },
  {
   "cell_type": "code",
   "execution_count": null,
   "outputs": [],
   "source": [
    "plot_x_s(train_xs, train_ss)"
   ],
   "metadata": {
    "collapsed": false
   }
  },
  {
   "cell_type": "code",
   "execution_count": null,
   "outputs": [],
   "source": [
    "data_id = \"pg\"\n",
    "\n",
    "save_data(f\"data/{data_id}/train.csv\", train_xs, train_ys, train_ss, train_es)\n",
    "save_data(f\"data/{data_id}/valid.csv\", valid_xs, valid_ys, valid_ss, valid_es)\n",
    "save_data(f\"data/{data_id}/test.csv\", test_xs, test_ys, test_ss, test_es)\n",
    "\n",
    "save_c(f\"data/{data_id}/c.txt\", c)"
   ],
   "metadata": {
    "collapsed": false
   }
  }
 ],
 "metadata": {
  "kernelspec": {
   "display_name": "Python 3",
   "language": "python",
   "name": "python3"
  },
  "language_info": {
   "codemirror_mode": {
    "name": "ipython",
    "version": 2
   },
   "file_extension": ".py",
   "mimetype": "text/x-python",
   "name": "python",
   "nbconvert_exporter": "python",
   "pygments_lexer": "ipython2",
   "version": "2.7.6"
  }
 },
 "nbformat": 4,
 "nbformat_minor": 0
}
